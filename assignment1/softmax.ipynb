{
 "cells": [
  {
   "cell_type": "markdown",
   "metadata": {},
   "source": [
    "# Softmax exercise\n",
    "\n",
    "*Complete and hand in this completed worksheet (including its outputs and any supporting code outside of the worksheet) with your assignment submission. For more details see the [assignments page](http://vision.stanford.edu/teaching/cs231n/assignments.html) on the course website.*\n",
    "\n",
    "This exercise is analogous to the SVM exercise. You will:\n",
    "\n",
    "- implement a fully-vectorized **loss function** for the Softmax classifier\n",
    "- implement the fully-vectorized expression for its **analytic gradient**\n",
    "- **check your implementation** with numerical gradient\n",
    "- use a validation set to **tune the learning rate and regularization** strength\n",
    "- **optimize** the loss function with **SGD**\n",
    "- **visualize** the final learned weights\n"
   ]
  },
  {
   "cell_type": "code",
   "execution_count": 1,
   "metadata": {
    "collapsed": false
   },
   "outputs": [],
   "source": [
    "import random\n",
    "import numpy as np\n",
    "from cs231n.data_utils import load_CIFAR10\n",
    "import matplotlib.pyplot as plt\n",
    "%matplotlib inline\n",
    "plt.rcParams['figure.figsize'] = (10.0, 8.0) # set default size of plots\n",
    "plt.rcParams['image.interpolation'] = 'nearest'\n",
    "plt.rcParams['image.cmap'] = 'gray'\n",
    "\n",
    "# for auto-reloading extenrnal modules\n",
    "# see http://stackoverflow.com/questions/1907993/autoreload-of-modules-in-ipython\n",
    "%load_ext autoreload\n",
    "%autoreload 2"
   ]
  },
  {
   "cell_type": "code",
   "execution_count": 2,
   "metadata": {
    "collapsed": false
   },
   "outputs": [
    {
     "name": "stdout",
     "output_type": "stream",
     "text": [
      "Train data shape:  (49000, 3073)\n",
      "Train labels shape:  (49000,)\n",
      "Validation data shape:  (1000, 3073)\n",
      "Validation labels shape:  (1000,)\n",
      "Test data shape:  (1000, 3073)\n",
      "Test labels shape:  (1000,)\n",
      "dev data shape:  (500, 3073)\n",
      "dev labels shape:  (500,)\n"
     ]
    }
   ],
   "source": [
    "def get_CIFAR10_data(num_training=49000, num_validation=1000, num_test=1000, num_dev=500):\n",
    "  \"\"\"\n",
    "  Load the CIFAR-10 dataset from disk and perform preprocessing to prepare\n",
    "  it for the linear classifier. These are the same steps as we used for the\n",
    "  SVM, but condensed to a single function.  \n",
    "  \"\"\"\n",
    "  # Load the raw CIFAR-10 data\n",
    "  cifar10_dir = 'cs231n/datasets/cifar-10-batches-py'\n",
    "  X_train, y_train, X_test, y_test = load_CIFAR10(cifar10_dir)\n",
    "  \n",
    "  # subsample the data\n",
    "  mask = range(num_training, num_training + num_validation)\n",
    "  X_val = X_train[mask]\n",
    "  y_val = y_train[mask]\n",
    "  mask = range(num_training)\n",
    "  X_train = X_train[mask]\n",
    "  y_train = y_train[mask]\n",
    "  mask = range(num_test)\n",
    "  X_test = X_test[mask]\n",
    "  y_test = y_test[mask]\n",
    "  mask = np.random.choice(num_training, num_dev, replace=False)\n",
    "  X_dev = X_train[mask]\n",
    "  y_dev = y_train[mask]\n",
    "  \n",
    "  # Preprocessing: reshape the image data into rows\n",
    "  X_train = np.reshape(X_train, (X_train.shape[0], -1))\n",
    "  X_val = np.reshape(X_val, (X_val.shape[0], -1))\n",
    "  X_test = np.reshape(X_test, (X_test.shape[0], -1))\n",
    "  X_dev = np.reshape(X_dev, (X_dev.shape[0], -1))\n",
    "  \n",
    "  # Normalize the data: subtract the mean image\n",
    "  mean_image = np.mean(X_train, axis = 0)\n",
    "  X_train -= mean_image\n",
    "  X_val -= mean_image\n",
    "  X_test -= mean_image\n",
    "  X_dev -= mean_image\n",
    "  \n",
    "  # add bias dimension and transform into columns\n",
    "  X_train = np.hstack([X_train, np.ones((X_train.shape[0], 1))])\n",
    "  X_val = np.hstack([X_val, np.ones((X_val.shape[0], 1))])\n",
    "  X_test = np.hstack([X_test, np.ones((X_test.shape[0], 1))])\n",
    "  X_dev = np.hstack([X_dev, np.ones((X_dev.shape[0], 1))])\n",
    "  \n",
    "  return X_train, y_train, X_val, y_val, X_test, y_test, X_dev, y_dev\n",
    "\n",
    "\n",
    "# Invoke the above function to get our data.\n",
    "X_train, y_train, X_val, y_val, X_test, y_test, X_dev, y_dev = get_CIFAR10_data()\n",
    "print 'Train data shape: ', X_train.shape\n",
    "print 'Train labels shape: ', y_train.shape\n",
    "print 'Validation data shape: ', X_val.shape\n",
    "print 'Validation labels shape: ', y_val.shape\n",
    "print 'Test data shape: ', X_test.shape\n",
    "print 'Test labels shape: ', y_test.shape\n",
    "print 'dev data shape: ', X_dev.shape\n",
    "print 'dev labels shape: ', y_dev.shape"
   ]
  },
  {
   "cell_type": "markdown",
   "metadata": {},
   "source": [
    "## Softmax Classifier\n",
    "\n",
    "Your code for this section will all be written inside **cs231n/classifiers/softmax.py**. \n"
   ]
  },
  {
   "cell_type": "code",
   "execution_count": 3,
   "metadata": {
    "collapsed": false
   },
   "outputs": [
    {
     "name": "stdout",
     "output_type": "stream",
     "text": [
      "loss: 2.317537\n",
      "sanity check: 2.302585\n"
     ]
    }
   ],
   "source": [
    "# First implement the naive softmax loss function with nested loops.\n",
    "# Open the file cs231n/classifiers/softmax.py and implement the\n",
    "# softmax_loss_naive function.\n",
    "\n",
    "from cs231n.classifiers.softmax import softmax_loss_naive\n",
    "import time\n",
    "\n",
    "# Generate a random softmax weight matrix and use it to compute the loss.\n",
    "W = np.random.randn(3073, 10) * 0.0001\n",
    "loss, grad = softmax_loss_naive(W, X_dev, y_dev, 0.0)\n",
    "\n",
    "# As a rough sanity check, our loss should be something close to -log(0.1).\n",
    "print 'loss: %f' % loss\n",
    "print 'sanity check: %f' % (-np.log(0.1))"
   ]
  },
  {
   "cell_type": "markdown",
   "metadata": {},
   "source": [
    "## Inline Question 1:\n",
    "Why do we expect our loss to be close to -log(0.1)? Explain briefly.**\n",
    "\n",
    "**Your answer:** *Fill this in*\n"
   ]
  },
  {
   "cell_type": "code",
   "execution_count": 4,
   "metadata": {
    "collapsed": false
   },
   "outputs": [
    {
     "name": "stdout",
     "output_type": "stream",
     "text": [
      "numerical: -0.401984 analytic: -0.401984, relative error: 6.097640e-10\n",
      "numerical: 1.481404 analytic: 1.481404, relative error: 3.042766e-08\n",
      "numerical: 0.257734 analytic: 0.257734, relative error: 3.172889e-08\n",
      "numerical: 0.960675 analytic: 0.960675, relative error: 8.121812e-08\n",
      "numerical: -1.890028 analytic: -1.890028, relative error: 1.928732e-09\n",
      "numerical: -2.040616 analytic: -2.040616, relative error: 1.371834e-08\n",
      "numerical: -0.959879 analytic: -0.959879, relative error: 3.211425e-08\n",
      "numerical: -2.465224 analytic: -2.465224, relative error: 3.555664e-09\n",
      "numerical: 0.851269 analytic: 0.851269, relative error: 5.724526e-08\n",
      "numerical: 0.098887 analytic: 0.098887, relative error: 1.458112e-07\n",
      "numerical: -2.362893 analytic: -2.362893, relative error: 1.263091e-08\n",
      "numerical: -1.952024 analytic: -1.952024, relative error: 3.854734e-08\n",
      "numerical: 0.183860 analytic: 0.183860, relative error: 9.533566e-08\n",
      "numerical: 0.758876 analytic: 0.758876, relative error: 1.114907e-07\n",
      "numerical: -1.920066 analytic: -1.920066, relative error: 1.811346e-08\n",
      "numerical: -4.947918 analytic: -4.947918, relative error: 1.015992e-08\n",
      "numerical: -0.173925 analytic: -0.173925, relative error: 4.866553e-08\n",
      "numerical: -1.022928 analytic: -1.022928, relative error: 3.079092e-08\n",
      "numerical: -0.166574 analytic: -0.166575, relative error: 2.260966e-07\n",
      "numerical: -1.861292 analytic: -1.861292, relative error: 2.484710e-09\n"
     ]
    }
   ],
   "source": [
    "# Complete the implementation of softmax_loss_naive and implement a (naive)\n",
    "# version of the gradient that uses nested loops.\n",
    "loss, grad = softmax_loss_naive(W, X_dev, y_dev, 0.0)\n",
    "\n",
    "# As we did for the SVM, use numeric gradient checking as a debugging tool.\n",
    "# The numeric gradient should be close to the analytic gradient.\n",
    "from cs231n.gradient_check import grad_check_sparse\n",
    "f = lambda w: softmax_loss_naive(w, X_dev, y_dev, 0.0)[0]\n",
    "grad_numerical = grad_check_sparse(f, W, grad, 10)\n",
    "\n",
    "# similar to SVM case, do another gradient check with regularization\n",
    "loss, grad = softmax_loss_naive(W, X_dev, y_dev, 1e2)\n",
    "f = lambda w: softmax_loss_naive(w, X_dev, y_dev, 1e2)[0]\n",
    "grad_numerical = grad_check_sparse(f, W, grad, 10)"
   ]
  },
  {
   "cell_type": "code",
   "execution_count": 6,
   "metadata": {
    "collapsed": false
   },
   "outputs": [
    {
     "name": "stdout",
     "output_type": "stream",
     "text": [
      "naive loss: 2.317537e+00 computed in 0.177921s\n",
      "vectorized loss: 2.317537e+00 computed in 0.007069s\n",
      "Loss difference: 0.000000\n",
      "Gradient difference: 0.000000\n"
     ]
    }
   ],
   "source": [
    "# Now that we have a naive implementation of the softmax loss function and its gradient,\n",
    "# implement a vectorized version in softmax_loss_vectorized.\n",
    "# The two versions should compute the same results, but the vectorized version should be\n",
    "# much faster.\n",
    "tic = time.time()\n",
    "loss_naive, grad_naive = softmax_loss_naive(W, X_dev, y_dev, 0.00001)\n",
    "toc = time.time()\n",
    "print 'naive loss: %e computed in %fs' % (loss_naive, toc - tic)\n",
    "\n",
    "from cs231n.classifiers.softmax import softmax_loss_vectorized\n",
    "tic = time.time()\n",
    "loss_vectorized, grad_vectorized = softmax_loss_vectorized(W, X_dev, y_dev, 0.00001)\n",
    "toc = time.time()\n",
    "print 'vectorized loss: %e computed in %fs' % (loss_vectorized, toc - tic)\n",
    "\n",
    "# As we did for the SVM, we use the Frobenius norm to compare the two versions\n",
    "# of the gradient.\n",
    "grad_difference = np.linalg.norm(grad_naive - grad_vectorized, ord='fro')\n",
    "print 'Loss difference: %f' % np.abs(loss_naive - loss_vectorized)\n",
    "print 'Gradient difference: %f' % grad_difference"
   ]
  },
  {
   "cell_type": "code",
   "execution_count": 7,
   "metadata": {
    "collapsed": false
   },
   "outputs": [
    {
     "name": "stderr",
     "output_type": "stream",
     "text": [
      "cs231n/classifiers/softmax.py:85: RuntimeWarning: divide by zero encountered in log\n",
      "  loss += -np.sum(np.log(yi_prob_per_image))\n",
      "cs231n/classifiers/softmax.py:94: RuntimeWarning: overflow encountered in double_scalars\n",
      "  loss += 0.5 * reg * np.sum(W * W)\n",
      "cs231n/classifiers/softmax.py:94: RuntimeWarning: overflow encountered in multiply\n",
      "  loss += 0.5 * reg * np.sum(W * W)\n",
      "cs231n/classifiers/softmax.py:78: RuntimeWarning: overflow encountered in subtract\n",
      "  scores -= log_c[:, None]\n",
      "cs231n/classifiers/softmax.py:95: RuntimeWarning: overflow encountered in multiply\n",
      "  dW += reg*W\n"
     ]
    },
    {
     "name": "stdout",
     "output_type": "stream",
     "text": [
      "lr 1.000000e-07 reg 1.000000e+04 train accuracy: 0.333878 val accuracy: 0.329000\n",
      "lr 1.000000e-07 reg 2.000000e+04 train accuracy: 0.353857 val accuracy: 0.369000\n",
      "lr 1.000000e-07 reg 3.000000e+04 train accuracy: 0.345041 val accuracy: 0.356000\n",
      "lr 1.000000e-07 reg 4.000000e+04 train accuracy: 0.338980 val accuracy: 0.360000\n",
      "lr 1.000000e-07 reg 5.000000e+04 train accuracy: 0.330653 val accuracy: 0.344000\n",
      "lr 1.000000e-07 reg 6.000000e+04 train accuracy: 0.325878 val accuracy: 0.342000\n",
      "lr 1.000000e-07 reg 7.000000e+04 train accuracy: 0.314041 val accuracy: 0.332000\n",
      "lr 1.000000e-07 reg 8.000000e+04 train accuracy: 0.317061 val accuracy: 0.337000\n",
      "lr 1.000000e-07 reg 1.000000e+05 train accuracy: 0.296082 val accuracy: 0.308000\n",
      "lr 2.000000e-07 reg 1.000000e+04 train accuracy: 0.368224 val accuracy: 0.382000\n",
      "lr 2.000000e-07 reg 2.000000e+04 train accuracy: 0.355347 val accuracy: 0.374000\n",
      "lr 2.000000e-07 reg 3.000000e+04 train accuracy: 0.344918 val accuracy: 0.354000\n",
      "lr 2.000000e-07 reg 4.000000e+04 train accuracy: 0.341898 val accuracy: 0.362000\n",
      "lr 2.000000e-07 reg 5.000000e+04 train accuracy: 0.334143 val accuracy: 0.354000\n",
      "lr 2.000000e-07 reg 6.000000e+04 train accuracy: 0.330163 val accuracy: 0.344000\n",
      "lr 2.000000e-07 reg 7.000000e+04 train accuracy: 0.323673 val accuracy: 0.337000\n",
      "lr 2.000000e-07 reg 8.000000e+04 train accuracy: 0.316796 val accuracy: 0.329000\n",
      "lr 2.000000e-07 reg 1.000000e+05 train accuracy: 0.301224 val accuracy: 0.318000\n",
      "lr 3.000000e-07 reg 1.000000e+04 train accuracy: 0.373184 val accuracy: 0.388000\n",
      "lr 3.000000e-07 reg 2.000000e+04 train accuracy: 0.358388 val accuracy: 0.377000\n",
      "lr 3.000000e-07 reg 3.000000e+04 train accuracy: 0.338551 val accuracy: 0.358000\n",
      "lr 3.000000e-07 reg 4.000000e+04 train accuracy: 0.328510 val accuracy: 0.351000\n",
      "lr 3.000000e-07 reg 5.000000e+04 train accuracy: 0.333469 val accuracy: 0.340000\n",
      "lr 3.000000e-07 reg 6.000000e+04 train accuracy: 0.320408 val accuracy: 0.337000\n",
      "lr 3.000000e-07 reg 7.000000e+04 train accuracy: 0.316184 val accuracy: 0.329000\n",
      "lr 3.000000e-07 reg 8.000000e+04 train accuracy: 0.325265 val accuracy: 0.339000\n",
      "lr 3.000000e-07 reg 1.000000e+05 train accuracy: 0.310061 val accuracy: 0.320000\n",
      "lr 8.000000e-07 reg 1.000000e+04 train accuracy: 0.370408 val accuracy: 0.378000\n",
      "lr 8.000000e-07 reg 2.000000e+04 train accuracy: 0.347102 val accuracy: 0.367000\n",
      "lr 8.000000e-07 reg 3.000000e+04 train accuracy: 0.337939 val accuracy: 0.330000\n",
      "lr 8.000000e-07 reg 4.000000e+04 train accuracy: 0.329224 val accuracy: 0.349000\n",
      "lr 8.000000e-07 reg 5.000000e+04 train accuracy: 0.331918 val accuracy: 0.350000\n",
      "lr 8.000000e-07 reg 6.000000e+04 train accuracy: 0.314857 val accuracy: 0.327000\n",
      "lr 8.000000e-07 reg 7.000000e+04 train accuracy: 0.311735 val accuracy: 0.325000\n",
      "lr 8.000000e-07 reg 8.000000e+04 train accuracy: 0.295878 val accuracy: 0.313000\n",
      "lr 8.000000e-07 reg 1.000000e+05 train accuracy: 0.302265 val accuracy: 0.305000\n",
      "lr 5.000000e-05 reg 1.000000e+04 train accuracy: 0.159306 val accuracy: 0.155000\n",
      "lr 5.000000e-05 reg 2.000000e+04 train accuracy: 0.109857 val accuracy: 0.108000\n",
      "lr 5.000000e-05 reg 3.000000e+04 train accuracy: 0.058612 val accuracy: 0.056000\n",
      "lr 5.000000e-05 reg 4.000000e+04 train accuracy: 0.135327 val accuracy: 0.129000\n",
      "lr 5.000000e-05 reg 5.000000e+04 train accuracy: 0.082469 val accuracy: 0.085000\n",
      "lr 5.000000e-05 reg 6.000000e+04 train accuracy: 0.100265 val accuracy: 0.087000\n",
      "lr 5.000000e-05 reg 7.000000e+04 train accuracy: 0.100265 val accuracy: 0.087000\n",
      "lr 5.000000e-05 reg 8.000000e+04 train accuracy: 0.100265 val accuracy: 0.087000\n",
      "lr 5.000000e-05 reg 1.000000e+05 train accuracy: 0.100265 val accuracy: 0.087000\n",
      "best validation accuracy achieved during cross-validation: 0.388000\n"
     ]
    }
   ],
   "source": [
    "# Use the validation set to tune hyperparameters (regularization strength and\n",
    "# learning rate). You should experiment with different ranges for the learning\n",
    "# rates and regularization strengths; if you are careful you should be able to\n",
    "# get a classification accuracy of over 0.35 on the validation set.\n",
    "from cs231n.classifiers import Softmax\n",
    "results = {}\n",
    "best_val = -1\n",
    "best_softmax = None\n",
    "learning_rates = [1e-7, 2e-7, 3e-7, 5e-5, 8e-7]\n",
    "regularization_strengths = [1e4, 2e4, 3e4, 4e4, 5e4, 6e4, 7e4, 8e4, 1e5]\n",
    "\n",
    "################################################################################\n",
    "# TODO:                                                                        #\n",
    "# Use the validation set to set the learning rate and regularization strength. #\n",
    "# This should be identical to the validation that you did for the SVM; save    #\n",
    "# the best trained softmax classifer in best_softmax.                          #\n",
    "################################################################################\n",
    "for lr in learning_rates:\n",
    "    for rs in regularization_strengths:\n",
    "        softmax = Softmax()\n",
    "        softmax.train(X_train, y_train, learning_rate=lr, reg=rs , num_iters = 1500)\n",
    "        train_accuracy = np.mean(y_train == softmax.predict(X_train))\n",
    "        val_accuracy = np.mean(y_val == softmax.predict(X_val))\n",
    "        results[(lr, rs)] = (train_accuracy, val_accuracy)\n",
    "        if val_accuracy > best_val:\n",
    "            best_val = val_accuracy\n",
    "            best_softmax = softmax\n",
    "################################################################################\n",
    "#                              END OF YOUR CODE                                #\n",
    "################################################################################\n",
    "    \n",
    "# Print out results.\n",
    "for lr, reg in sorted(results):\n",
    "    train_accuracy, val_accuracy = results[(lr, reg)]\n",
    "    print 'lr %e reg %e train accuracy: %f val accuracy: %f' % (\n",
    "                lr, reg, train_accuracy, val_accuracy)\n",
    "    \n",
    "print 'best validation accuracy achieved during cross-validation: %f' % best_val"
   ]
  },
  {
   "cell_type": "code",
   "execution_count": 8,
   "metadata": {
    "collapsed": false
   },
   "outputs": [
    {
     "name": "stdout",
     "output_type": "stream",
     "text": [
      "softmax on raw pixels final test set accuracy: 0.375000\n"
     ]
    }
   ],
   "source": [
    "# evaluate on test set\n",
    "# Evaluate the best softmax on test set\n",
    "y_test_pred = best_softmax.predict(X_test)\n",
    "test_accuracy = np.mean(y_test == y_test_pred)\n",
    "print 'softmax on raw pixels final test set accuracy: %f' % (test_accuracy, )"
   ]
  },
  {
   "cell_type": "code",
   "execution_count": 9,
   "metadata": {
    "collapsed": false
   },
   "outputs": [
    {
     "data": {
      "image/png": "[encoded data removed]",
      "text/plain": [
       "<matplotlib.figure.Figure at 0x7f2a5ab2ff10>"
      ]
     },
     "metadata": {},
     "output_type": "display_data"
    }
   ],
   "source": [
    "# Visualize the learned weights for each class\n",
    "w = best_softmax.W[:-1,:] # strip out the bias\n",
    "w = w.reshape(32, 32, 3, 10)\n",
    "\n",
    "w_min, w_max = np.min(w), np.max(w)\n",
    "\n",
    "classes = ['plane', 'car', 'bird', 'cat', 'deer', 'dog', 'frog', 'horse', 'ship', 'truck']\n",
    "for i in xrange(10):\n",
    "  plt.subplot(2, 5, i + 1)\n",
    "  \n",
    "  # Rescale the weights to be between 0 and 255\n",
    "  wimg = 255.0 * (w[:, :, :, i].squeeze() - w_min) / (w_max - w_min)\n",
    "  plt.imshow(wimg.astype('uint8'))\n",
    "  plt.axis('off')\n",
    "  plt.title(classes[i])"
   ]
  },
  {
   "cell_type": "code",
   "execution_count": null,
   "metadata": {
    "collapsed": true
   },
   "outputs": [],
   "source": []
  }
 ],
 "metadata": {
  "kernelspec": {
   "display_name": "Python 2",
   "language": "python",
   "name": "python2"
  },
  "language_info": {
   "codemirror_mode": {
    "name": "ipython",
    "version": 2
   },
   "file_extension": ".py",
   "mimetype": "text/x-python",
   "name": "python",
   "nbconvert_exporter": "python",
   "pygments_lexer": "ipython2",
   "version": "2.7.13"
  }
 },
 "nbformat": 4,
 "nbformat_minor": 0
}
